{
 "cells": [
  {
   "cell_type": "code",
   "execution_count": null,
   "metadata": {},
   "outputs": [],
   "source": [
    "#import libraries\n",
    "import numpy as np #numpy\n",
    "import pandas as pd #pandas\n",
    "import datetime #datetime\n",
    "\n",
    "#!pip install spacy # must install if dependancy isnt on local\n",
    "python -m spacy download en_core_web_sm\n",
    "import spacy\n",
    "nlp = spacy.load(\"en_core_web_sm\")\n",
    "\n"
   ]
  },
  {
   "cell_type": "code",
   "execution_count": null,
   "metadata": {
    "scrolled": false
   },
   "outputs": [],
   "source": [
    "#read in excel file\n",
    "ORdata = pd.read_csv('data/OpenRecords7_22.csv', encoding='windows-1252')\n",
    "ORdata"
   ]
  },
  {
   "cell_type": "code",
   "execution_count": null,
   "metadata": {},
   "outputs": [],
   "source": [
    "ORdata.columns"
   ]
  },
  {
   "cell_type": "code",
   "execution_count": null,
   "metadata": {},
   "outputs": [],
   "source": [
    "ORdata.dtypes"
   ]
  },
  {
   "cell_type": "code",
   "execution_count": null,
   "metadata": {},
   "outputs": [],
   "source": [
    "ORdata['Summary'] = ORdata['Summary'].str.strip('\\n\\n\\xa0\\n\\n') #strip special characters from column/header names\n",
    "ORdata['Create Date'] = pd.to_datetime(ORdata['Create Date'])  #change to date/time dtype\n",
    "ORdata.head()"
   ]
  },
  {
   "cell_type": "code",
   "execution_count": null,
   "metadata": {},
   "outputs": [],
   "source": [
    "ORdata.dtypes #verify datatypes"
   ]
  },
  {
   "cell_type": "code",
   "execution_count": null,
   "metadata": {
    "scrolled": true
   },
   "outputs": [],
   "source": [
    "#NLP Spacy\n",
    "\n",
    "doc = nlp(ORdata.Summary[0])\n",
    "print (doc)\n",
    "\n",
    "\n"
   ]
  },
  {
   "cell_type": "code",
   "execution_count": null,
   "metadata": {},
   "outputs": [],
   "source": [
    "# Obtain every title of columns with tag <th>\n",
    "headers = []\n",
    "for i in table1.find_all(\"th\"):\n",
    " title = i.text\n",
    " headers.append(title)\n",
    "headers\n",
    "\n",
    "#notice headers read in with extra characters, leading:\"\\n\\n\" and trailing \"\\xa0\\n\\n'\""
   ]
  },
  {
   "cell_type": "code",
   "execution_count": null,
   "metadata": {},
   "outputs": [],
   "source": [
    "# Create a dataframe (df)\n",
    "\n",
    "mydata = pd.DataFrame(columns = headers) #creat df, assign headers based on table headers\n",
    "mydata.columns = mydata.columns.astype(\"str\") #make columns/headers str datatypes\n",
    "mydata.columns = mydata.columns.str.strip('\\n\\n\\xa0\\n\\n') #strip special characters from column/header names\n",
    "mydata #call the df, cleaned columns/headers without special characters\n",
    "\n"
   ]
  },
  {
   "cell_type": "code",
   "execution_count": null,
   "metadata": {},
   "outputs": [],
   "source": [
    "# Create a for loop to fill mydata\n",
    "for j in table1.find_all(\"tr\"):\n",
    " row_data = j.find_all('td')\n",
    " row = [i.text for i in row_data]\n",
    " length = len(mydata)\n",
    " mydata.loc[length] = row\n",
    "\n",
    "mydata.append(row)\n",
    "#mydataNew.append(pd.Series(mydata, index = mydataNew.columns[:len(mydata)]), ignore_index = True)\n",
    "#mydataNew"
   ]
  },
  {
   "cell_type": "code",
   "execution_count": null,
   "metadata": {},
   "outputs": [],
   "source": []
  },
  {
   "cell_type": "markdown",
   "metadata": {},
   "source": [
    "Resources:\n",
    "Packages:\n",
    "    Pandas\n",
    "    BeautifulSoup\n",
    "    datetime\n",
    "Cleaning:\n",
    "    Strip specical characters\n",
    "    Cleaning up columns(setting datatypes, striping, converting Upper/lower): https://www.codeforests.com/2020/08/16/pandas-format-column-headers/\n",
    "\n",
    "NLP:\n",
    "    Spacy : https://spacy.io/"
   ]
  },
  {
   "cell_type": "code",
   "execution_count": null,
   "metadata": {},
   "outputs": [],
   "source": []
  }
 ],
 "metadata": {
  "kernelspec": {
   "display_name": "Python 3",
   "language": "python",
   "name": "python3"
  },
  "language_info": {
   "codemirror_mode": {
    "name": "ipython",
    "version": 3
   },
   "file_extension": ".py",
   "mimetype": "text/x-python",
   "name": "python",
   "nbconvert_exporter": "python",
   "pygments_lexer": "ipython3",
   "version": "3.8.5"
  }
 },
 "nbformat": 4,
 "nbformat_minor": 4
}
